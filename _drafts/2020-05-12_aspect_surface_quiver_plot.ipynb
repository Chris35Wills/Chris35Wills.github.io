{
 "cells": [
  {
   "cell_type": "markdown",
   "metadata": {},
   "source": [
    "# Quiver plots based on topographic aspect "
   ]
  },
  {
   "cell_type": "markdown",
   "metadata": {},
   "source": [
    "***Disclaimer*** *: this post is not intended to teach you the maths underlying vectors but it might help you get started and signpost the way to further learing.*\n",
    "\n",
    "The aspect of a topographic surface shows the downslope orietnation of a designated \"portion\" of land, for a raster, this \"portion\" will be each cell. The aspect value is normally provided in degrees relative to North. Plotting aspect rasters is often done by colour. For example, all cells of a raster with aspect values in say between 22.5°N – 67.5°N which can be classified as NE will be given a specific colour. This will then differ to the colour assigned to cells where values fall within the range of South West and so on. "
   ]
  },
  {
   "cell_type": "markdown",
   "metadata": {},
   "source": [
    "<img src=\"images/quiver/ukso_aspect.png\">"
   ]
  },
  {
   "cell_type": "markdown",
   "metadata": {},
   "source": [
    "Plotting these surfaces in a GIS program such as ArcMap or QGIS is a case of playing with the raster symbology. You can also then add arrows to show the aspect direction where a north facing pixel will have a north facing arrow etc. Check out the various help pages for [ArcMap](https://desktop.arcgis.com/en/arcmap/latest/manage-data/raster-and-images/symbolizing-rasters-from-values-in-a-raster-attribute-table.htm) and [QGIS](https://docs.qgis.org/3.10/en/docs/) on how to do this."
   ]
  },
  {
   "cell_type": "markdown",
   "metadata": {},
   "source": [
    "Where you are writing your own program, this GIS solution is not always a viable method. Fortunately, Python's matplotlib can help you out here. It's called quiver plotting. Here's an example."
   ]
  },
  {
   "cell_type": "code",
   "execution_count": 17,
   "metadata": {},
   "outputs": [
    {
     "data": {
      "image/png": "[encoded data removed]",
      "text/plain": [
       "<Figure size 432x288 with 1 Axes>"
      ]
     },
     "metadata": {
      "needs_background": "light"
     },
     "output_type": "display_data"
    }
   ],
   "source": [
    "import numpy as np\n",
    "import matplotlib.pyplot as plt\n",
    "\n",
    "def single_quiver(x_pos,y_pos,x_direct,y_direct, title=''):\n",
    "\tfig, ax = plt.subplots()\n",
    "\tax.quiver(x_pos,y_pos,x_direct,y_direct, scale=5)\n",
    "\tax.axis([-2,2,-2,2])\n",
    "\tif title !='':\n",
    "\t\tplt.title(title)\n",
    "\tplt.show()\n",
    "    \n",
    "\n",
    "#Aspect example: If it was 90 deg, that would be\n",
    "x_pos = [0]\n",
    "y_pos = [0]\n",
    "x_direct = [1]\n",
    "y_direct = [0]\n",
    "title=\"x_pos:%i x_direct:%i | y_pos:%i y_direct:%i\" %(x_pos[0], x_direct[0], y_pos[0], y_direct[0])\n",
    "single_quiver(x_pos,y_pos,x_direct,y_direct, title=title)"
   ]
  },
  {
   "cell_type": "markdown",
   "metadata": {},
   "source": [
    "Note that we are setting the origin of the arrow (`x_pos` and `y_pos`) and then the direction (`x_direct` and `y_direct`) as coordinate pairs. We'll look at how you get these from a bearing value shortly. We'll be talking about these then as ***vector magnitue and direction***.\n",
    "\n",
    "There's something important to be aware of here. If you're thinking like a geographer and not a mathemativian, you'd probably expect an aspect of 0°N to point to 12 o-clock. However, if you were to pass that 0° to quiver in matplotlib, it will point to 3 o'clock. This is because we're dealing with degrees and not compass points. \n",
    "\n",
    "This is called ***standard position***.\n",
    "\n",
    "Bearings relative to compass north and standard posiiton are 2 conventions for considering bearings or angles. \n",
    "* relative to compass north: angles are clockwise from 12 o'clock\n",
    "* standard position: angles are anti-clockwise from 3 o'clock\n",
    "\n",
    "Python's quiver function expects angles to be in ***standard position***, not relative to north, so if you are providing compass bearings, for the code to work correctly, you'll need to convert the angles. The following functionlet's you do this do this."
   ]
  },
  {
   "cell_type": "code",
   "execution_count": 18,
   "metadata": {},
   "outputs": [
    {
     "name": "stdout",
     "output_type": "stream",
     "text": [
      "Converts angles from compass convention (clockwise from North) to standard position (anti-clockwise from East)\n",
      " \n",
      "Example:\n",
      "Compass bearing : Standard position angle\n",
      "0 : 90\n",
      "90 : 0\n",
      "180 : 270\n",
      "270 : 180\n",
      "360 : 90\n",
      "Provide a bearing to get the equivalent in standard poisiton....\n"
     ]
    }
   ],
   "source": [
    "def compassBearing_to_standardPosition__degrees_counterClockwise(bearing_deg=''):\n",
    "\t\"\"\"Vector magnitude and direction calculations assume angle is relative to the x axis (i.e. 0 degrees is at 3 o'clock)\n",
    "\tAdjust compass bearings to be relative to standard poisiton\n",
    "\tHelp: https://math.stackexchange.com/questions/492167/calculate-the-angle-of-a-vector-in-compass-360-direction\n",
    "\t\"\"\"\n",
    "\tif bearing_deg=='':\n",
    "\t\tnorth_bearings=[0,90,180,270,360]\n",
    "\t\tprint(\"Converts angles from compass convention (clockwise from North) to standard position (anti-clockwise from East)\")\n",
    "\t\tprint(\" \")\n",
    "\t\tprint(\"Example:\")\n",
    "\t\tprint(\"Compass bearing : Standard position angle\")\n",
    "\t\tfor bearing in north_bearings:\n",
    "\t\t\tprint(\"%i : %i\" %(bearing, ((450 - bearing) % 360)))\n",
    "\t\tprint(\"Provide a bearing to get the equivalent in standard poisiton....\")\n",
    "\telse:\n",
    "\t\tstd_pos=(450 - bearing_deg) % 360\n",
    "\t\treturn(std_pos)\n",
    "\n",
    "compassBearing_to_standardPosition__degrees_counterClockwise(bearing_deg=\"\")"
   ]
  },
  {
   "cell_type": "markdown",
   "metadata": {},
   "source": [
    "So if we give it 90°N (so East on a compass), we should get 0 in standard position."
   ]
  },
  {
   "cell_type": "code",
   "execution_count": 19,
   "metadata": {},
   "outputs": [
    {
     "data": {
      "text/plain": [
       "0"
      ]
     },
     "execution_count": 19,
     "metadata": {},
     "output_type": "execute_result"
    }
   ],
   "source": [
    "compassBearing_to_standardPosition__degrees_counterClockwise(bearing_deg=90)"
   ]
  },
  {
   "cell_type": "markdown",
   "metadata": {},
   "source": [
    "Earlier, the start and end locations of the arrow or quiver were mentioned. We now need to condiser vector magnitude and direction."
   ]
  },
  {
   "cell_type": "code",
   "execution_count": null,
   "metadata": {},
   "outputs": [],
   "source": [
    "def calculate_U_and_V__vector_magnitude_and_direction(angle_degrees, magnitude=1, correct_to_standard_position=True):\n",
    "\t\"\"\"Calculates the components of a vector given in magnitude (U) and direction (V) form\n",
    "\n",
    "\tangle: Expected that angles are in standard position (i.e. relative to the x axis or where 3 o'clock is zero and not the compass bearing where 12 o'clock is 0)\n",
    "\tmagnitude: defaults to 1\n",
    "\tcorrect_to_standard_position: if True, converts angle_degrees to standard position using formula: (450 - bearing_deg) % 360 << this should only be used if you \n",
    "\t\tprovide angle_degrees elative to grid North e.g. where 90 degrees is East etc.\n",
    "\tHelp: https://www.khanacademy.org/math/precalculus/x9e81a4f98389efdf:vectors/x9e81a4f98389efdf:component-form/v/vector-components-from-magnitude-and-direction\n",
    "\t\"\"\"\n",
    "\tif correct_to_standard_position:\n",
    "\t\tangle_degrees = compassBearing_to_standardPosition__degrees_counterClockwise(angle_degrees)\n",
    "\t\n",
    "\tangle_rad=np.deg2rad(angle_degrees)\n",
    "\tx = magnitude * np.cos(angle_rad) # change in x == U\n",
    "\ty = magnitude * np.sin(angle_rad) # change in y == V\n",
    "\treturn(x,y)\n"
   ]
  },
  {
   "cell_type": "markdown",
   "metadata": {},
   "source": [
    "**********************\n",
    "**CHRIS: Up to line 98 of N:\\Github\\Chris35Wills.github.io\\_drafts\\aspect_quiver.py**"
   ]
  },
  {
   "cell_type": "code",
   "execution_count": null,
   "metadata": {},
   "outputs": [],
   "source": []
  }
 ],
 "metadata": {
  "kernelspec": {
   "display_name": "Python 3",
   "language": "python",
   "name": "python3"
  },
  "language_info": {
   "codemirror_mode": {
    "name": "ipython",
    "version": 3
   },
   "file_extension": ".py",
   "mimetype": "text/x-python",
   "name": "python",
   "nbconvert_exporter": "python",
   "pygments_lexer": "ipython3",
   "version": "3.7.1"
  }
 },
 "nbformat": 4,
 "nbformat_minor": 4
}
