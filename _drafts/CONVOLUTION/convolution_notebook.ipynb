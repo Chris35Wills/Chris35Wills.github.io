{
 "cells": [
  {
   "cell_type": "markdown",
   "metadata": {},
   "source": [
    "# Moving window example: calcualting slope"
   ]
  },
  {
   "cell_type": "code",
   "execution_count": 1,
   "metadata": {},
   "outputs": [],
   "source": [
    "import numpy as np\n",
    "import matplotlib.pyplot as plt\n",
    "\n",
    "# Make some toy data\n",
    "arr_in = np.round(np.random.uniform(low=0, high=20, size=(11,11)), 2)\n",
    "arr_out=np.ones(arr_in.shape)\n",
    "\n",
    "# Set a kernel size (e.g. value of 3 for a 3x3 window)\n",
    "kernel_size=3\n",
    "#stepsize=1\n",
    "\n",
    "#~~~~~~~~~~~~~~\n",
    "# Create some function to work on values within a kernel\n",
    "def calc_slope(array, y, x, kernel_size):\n",
    "    \"\"\"\n",
    "    \"\"\"\n",
    "\n",
    "    if array[(y,x)] != -9999.0:\n",
    "        half_kernel = (kernel_size-1)//2\n",
    "        subimg = array[(y - half_kernel):(y + half_kernel + 1), (x - half_kernel):(x + half_kernel + 1)]\n",
    "        assert subimg.shape == (kernel_size, kernel_size), \"Subimage dimensions not equal to kernel - you're probably at an edge - add padding to you array\"       \n",
    "        \n",
    "        # Do something with the subimg (the extracted kernel)       \n",
    "        slp_subimg=101\n",
    "        return(slp_subimg)\n",
    "        \n",
    "    else:\n",
    "        print(\"Move to next point\")\n"
   ]
  },
  {
   "cell_type": "code",
   "execution_count": 2,
   "metadata": {},
   "outputs": [
    {
     "name": "stdout",
     "output_type": "stream",
     "text": [
      "Array before padding\n",
      "(11, 11)\n"
     ]
    },
    {
     "data": {
      "text/plain": [
       "<matplotlib.image.AxesImage at 0x14c6bea6f28>"
      ]
     },
     "execution_count": 2,
     "metadata": {},
     "output_type": "execute_result"
    },
    {
     "data": {
      "image/png": "[encoded data removed]",
      "text/plain": [
       "<Figure size 432x288 with 1 Axes>"
      ]
     },
     "metadata": {},
     "output_type": "display_data"
    }
   ],
   "source": [
    "print(\"Array before padding\")\n",
    "print(arr_in.shape)\n",
    "plt.imshow(arr_in)"
   ]
  },
  {
   "cell_type": "code",
   "execution_count": 3,
   "metadata": {},
   "outputs": [
    {
     "name": "stdout",
     "output_type": "stream",
     "text": [
      "Array after padding\n",
      "(13, 13)\n"
     ]
    },
    {
     "data": {
      "image/png": "[encoded data removed]",
      "text/plain": [
       "<Figure size 432x288 with 1 Axes>"
      ]
     },
     "metadata": {},
     "output_type": "display_data"
    }
   ],
   "source": [
    "#~~~~~~~~~~~~~~\n",
    "# Pad image to a width of (kernel size -1) /2\n",
    "# Essential as the moving window needs to operate on your array corners\n",
    "arr_proc=np.pad(arr_in, int((kernel_size-1)/2), mode='constant', constant_values=-9999)\n",
    "print(\"Array after padding\")\n",
    "plt.imshow(arr_proc)\n",
    "print(arr_proc.shape)"
   ]
  },
  {
   "cell_type": "code",
   "execution_count": 4,
   "metadata": {},
   "outputs": [
    {
     "name": "stdout",
     "output_type": "stream",
     "text": [
      "0 0\n"
     ]
    },
    {
     "ename": "AssertionError",
     "evalue": "Subimage dimensions not equal to kernel - you're probably at an edge - add padding to you array",
     "output_type": "error",
     "traceback": [
      "\u001b[1;31m---------------------------------------------------------------------------\u001b[0m",
      "\u001b[1;31mAssertionError\u001b[0m                            Traceback (most recent call last)",
      "\u001b[1;32m<ipython-input-4-512e27f86155>\u001b[0m in \u001b[0;36m<module>\u001b[1;34m()\u001b[0m\n\u001b[0;32m      7\u001b[0m \u001b[1;33m\u001b[0m\u001b[0m\n\u001b[0;32m      8\u001b[0m         \u001b[0marr_out\u001b[0m\u001b[1;33m[\u001b[0m\u001b[0mout_i\u001b[0m\u001b[1;33m,\u001b[0m \u001b[0mout_j\u001b[0m\u001b[1;33m]\u001b[0m \u001b[1;33m=\u001b[0m \u001b[0marr_in\u001b[0m\u001b[1;33m[\u001b[0m\u001b[0mout_i\u001b[0m\u001b[1;33m,\u001b[0m \u001b[0mout_j\u001b[0m\u001b[1;33m]\u001b[0m\u001b[1;33m\u001b[0m\u001b[0m\n\u001b[1;32m----> 9\u001b[1;33m         \u001b[0marr_out\u001b[0m\u001b[1;33m[\u001b[0m\u001b[0mout_i\u001b[0m\u001b[1;33m,\u001b[0m \u001b[0mout_j\u001b[0m\u001b[1;33m]\u001b[0m \u001b[1;33m=\u001b[0m \u001b[0mcalc_slope\u001b[0m\u001b[1;33m(\u001b[0m\u001b[0marr_in\u001b[0m\u001b[1;33m,\u001b[0m \u001b[0mii\u001b[0m\u001b[1;33m,\u001b[0m \u001b[0mjj\u001b[0m\u001b[1;33m,\u001b[0m \u001b[0mkernel_size\u001b[0m\u001b[1;33m)\u001b[0m\u001b[1;33m\u001b[0m\u001b[0m\n\u001b[0m",
      "\u001b[1;32m<ipython-input-1-e2906e614f0e>\u001b[0m in \u001b[0;36mcalc_slope\u001b[1;34m(array, y, x, kernel_size)\u001b[0m\n\u001b[0;32m     19\u001b[0m         \u001b[0mhalf_kernel\u001b[0m \u001b[1;33m=\u001b[0m \u001b[1;33m(\u001b[0m\u001b[0mkernel_size\u001b[0m\u001b[1;33m-\u001b[0m\u001b[1;36m1\u001b[0m\u001b[1;33m)\u001b[0m\u001b[1;33m//\u001b[0m\u001b[1;36m2\u001b[0m\u001b[1;33m\u001b[0m\u001b[0m\n\u001b[0;32m     20\u001b[0m         \u001b[0msubimg\u001b[0m \u001b[1;33m=\u001b[0m \u001b[0marray\u001b[0m\u001b[1;33m[\u001b[0m\u001b[1;33m(\u001b[0m\u001b[0my\u001b[0m \u001b[1;33m-\u001b[0m \u001b[0mhalf_kernel\u001b[0m\u001b[1;33m)\u001b[0m\u001b[1;33m:\u001b[0m\u001b[1;33m(\u001b[0m\u001b[0my\u001b[0m \u001b[1;33m+\u001b[0m \u001b[0mhalf_kernel\u001b[0m \u001b[1;33m+\u001b[0m \u001b[1;36m1\u001b[0m\u001b[1;33m)\u001b[0m\u001b[1;33m,\u001b[0m \u001b[1;33m(\u001b[0m\u001b[0mx\u001b[0m \u001b[1;33m-\u001b[0m \u001b[0mhalf_kernel\u001b[0m\u001b[1;33m)\u001b[0m\u001b[1;33m:\u001b[0m\u001b[1;33m(\u001b[0m\u001b[0mx\u001b[0m \u001b[1;33m+\u001b[0m \u001b[0mhalf_kernel\u001b[0m \u001b[1;33m+\u001b[0m \u001b[1;36m1\u001b[0m\u001b[1;33m)\u001b[0m\u001b[1;33m]\u001b[0m\u001b[1;33m\u001b[0m\u001b[0m\n\u001b[1;32m---> 21\u001b[1;33m         \u001b[1;32massert\u001b[0m \u001b[0msubimg\u001b[0m\u001b[1;33m.\u001b[0m\u001b[0mshape\u001b[0m \u001b[1;33m==\u001b[0m \u001b[1;33m(\u001b[0m\u001b[0mkernel_size\u001b[0m\u001b[1;33m,\u001b[0m \u001b[0mkernel_size\u001b[0m\u001b[1;33m)\u001b[0m\u001b[1;33m,\u001b[0m \u001b[1;34m\"Subimage dimensions not equal to kernel - you're probably at an edge - add padding to you array\"\u001b[0m\u001b[1;33m\u001b[0m\u001b[0m\n\u001b[0m\u001b[0;32m     22\u001b[0m \u001b[1;33m\u001b[0m\u001b[0m\n\u001b[0;32m     23\u001b[0m         \u001b[1;31m# Do something with the subimg (the extracted kernel)\u001b[0m\u001b[1;33m\u001b[0m\u001b[1;33m\u001b[0m\u001b[0m\n",
      "\u001b[1;31mAssertionError\u001b[0m: Subimage dimensions not equal to kernel - you're probably at an edge - add padding to you array"
     ]
    }
   ],
   "source": [
    "stepsize=1\n",
    "for out_i, ii in enumerate(range(0,arr_proc.shape[0]-1, stepsize)): # y       \n",
    "    for out_j, jj in enumerate(range(0, arr_proc.shape[1]-1, stepsize)): # x\n",
    "        print(out_i, out_j)\n",
    "        arr_out[out_i, out_j] = arr_in[out_i, out_j]\n",
    "\n",
    "\n",
    "        arr_out[out_i, out_j] = arr_in[out_i, out_j]\n",
    "        arr_out[out_i, out_j] = calc_slope(arr_in, ii, jj, kernel_size)"
   ]
  },
  {
   "cell_type": "code",
   "execution_count": 5,
   "metadata": {},
   "outputs": [
    {
     "data": {
      "image/png": "[encoded data removed]",
      "text/plain": [
       "<Figure size 432x288 with 2 Axes>"
      ]
     },
     "metadata": {},
     "output_type": "display_data"
    }
   ],
   "source": [
    "# Plot output      \n",
    "f, (ax1, ax2) = plt.subplots(1, 2, sharey=False)\n",
    "ax1.imshow(arr_in)\n",
    "ax1.set_title(\"Input\")\n",
    "ax2.imshow(arr_out)\n",
    "ax2.set_title(\"Output\")\n",
    "plt.show()\n"
   ]
  }
 ],
 "metadata": {
  "kernelspec": {
   "display_name": "Python 3",
   "language": "python",
   "name": "python3"
  },
  "language_info": {
   "codemirror_mode": {
    "name": "ipython",
    "version": 3
   },
   "file_extension": ".py",
   "mimetype": "text/x-python",
   "name": "python",
   "nbconvert_exporter": "python",
   "pygments_lexer": "ipython3",
   "version": "3.6.3"
  }
 },
 "nbformat": 4,
 "nbformat_minor": 2
}
