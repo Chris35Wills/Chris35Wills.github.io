{
 "cells": [
  {
   "cell_type": "markdown",
   "metadata": {},
   "source": [
    "# Moving windows"
   ]
  },
  {
   "cell_type": "markdown",
   "metadata": {},
   "source": [
    "## 1D example\n",
    "\n",
    "All text below adapted from: https://rigtorp.se/2011/01/01/rolling-statistics-numpy.html \n",
    "\n",
    "To compute rolling or moving statistics such as mean and standard deviation, the simplest way compute that is to use a for loop:"
   ]
  },
  {
   "cell_type": "code",
   "execution_count": 5,
   "metadata": {},
   "outputs": [],
   "source": [
    "import numpy as np\n",
    "\n",
    "def rolling_apply(fun, a, w):\n",
    "    r = np.empty(a.shape)\n",
    "    r.fill(np.nan)\n",
    "    for i in range(w - 1, a.shape[0]):\n",
    "        r[i] = fun(a[(i-w+1):i+1])\n",
    "    return r\n"
   ]
  },
  {
   "cell_type": "markdown",
   "metadata": {},
   "source": [
    "A loop in Python are however very slow compared to a loop in C code. Fortunately there is a trick to make NumPy perform this looping internally in C code. This is achieved by adding an extra dimension with the same size as the window and an appropriate stride:"
   ]
  },
  {
   "cell_type": "code",
   "execution_count": 6,
   "metadata": {},
   "outputs": [],
   "source": [
    "def rolling_window(a, window):\n",
    "    shape = a.shape[:-1] + (a.shape[-1] - window + 1, window)\n",
    "    strides = a.strides + (a.strides[-1],)\n",
    "    return np.lib.stride_tricks.as_strided(a, shape=shape, strides=strides)\n"
   ]
  },
  {
   "cell_type": "markdown",
   "metadata": {},
   "source": [
    "Using this function it is easy to calculate for example a rolling mean without looping in Python:"
   ]
  },
  {
   "cell_type": "code",
   "execution_count": 7,
   "metadata": {},
   "outputs": [
    {
     "data": {
      "text/plain": [
       "array([[[0, 1, 2],\n",
       "        [1, 2, 3],\n",
       "        [2, 3, 4]],\n",
       "\n",
       "       [[5, 6, 7],\n",
       "        [6, 7, 8],\n",
       "        [7, 8, 9]]])"
      ]
     },
     "execution_count": 7,
     "metadata": {},
     "output_type": "execute_result"
    }
   ],
   "source": [
    "x=np.arange(10).reshape((2,5))\n",
    "rolling_window(x, 3)"
   ]
  },
  {
   "cell_type": "code",
   "execution_count": 8,
   "metadata": {},
   "outputs": [
    {
     "data": {
      "text/plain": [
       "array([[ 1.,  2.,  3.],\n",
       "       [ 6.,  7.,  8.]])"
      ]
     },
     "execution_count": 8,
     "metadata": {},
     "output_type": "execute_result"
    }
   ],
   "source": [
    "np.mean(rolling_window(x, 3), -1)"
   ]
  },
  {
   "cell_type": "markdown",
   "metadata": {},
   "source": [
    "More info on strides here: https://scipy-cookbook.readthedocs.io/items/SegmentAxis.html\n",
    "\n",
    "and here: https://scipy-cookbook.readthedocs.io/items/GameOfLifeStrides.html"
   ]
  },
  {
   "cell_type": "markdown",
   "metadata": {},
   "source": [
    "## 2D moving window over array in NumPy\n",
    "\n",
    "Code and text below taken from: https://stackoverflow.com/questions/48215914/vectorized-2-d-moving-window-in-numpy-including-edges\n",
    "\n",
    "**Question**: \n",
    "\n",
    "Is it possible to do a vectorized 2D moving window (rolling window) which includes so-called edge effects? What would be the most efficient way to do this?\n",
    "\n",
    "That is, I would like to slide the center of a moving window across my grid, such that the center can move over each cell in the grid. When moving along the margins of the grid, this operation would return only the portion of the window that overlaps the grid. Where the window is entirely within the grid, the full window is returned.\n",
    "\n",
    "**Answer**:\n",
    "\n",
    "You could define a function that yields a generator and use that. The window would be the floor of the shape you want divided by 2 and the trick would be just indexing the array along that window as you move along the rows and columns."
   ]
  },
  {
   "cell_type": "code",
   "execution_count": 9,
   "metadata": {},
   "outputs": [],
   "source": [
    "def window(arr, shape=(3, 3)):\n",
    "    # Find row and column window sizes\n",
    "    r_win = np.floor(shape[0] / 2).astype(int)\n",
    "    c_win = np.floor(shape[1] / 2).astype(int)\n",
    "    x, y = arr.shape\n",
    "    for i in range(x):\n",
    "        xmin = max(0, i - r_win)\n",
    "        xmax = min(x, i + r_win + 1)\n",
    "        for j in range(y):\n",
    "            ymin = max(0, j - c_win)\n",
    "            ymax = min(y, j + c_win + 1)\n",
    "            yield arr[xmin:xmax, ymin:ymax]"
   ]
  },
  {
   "cell_type": "code",
   "execution_count": 10,
   "metadata": {},
   "outputs": [
    {
     "name": "stdout",
     "output_type": "stream",
     "text": [
      "(4, 4)\n",
      "[[1 2]\n",
      " [2 3]]\n",
      "\n",
      "[[1 2 3]\n",
      " [2 3 4]]\n",
      "\n",
      "[[2 3 4]\n",
      " [3 4 5]]\n",
      "\n",
      "[[3 4]\n",
      " [4 5]]\n",
      "\n",
      "[[1 2]\n",
      " [2 3]\n",
      " [3 4]]\n",
      "\n",
      "[[1 2 3]\n",
      " [2 3 4]\n",
      " [3 4 5]]\n",
      "\n",
      "[[2 3 4]\n",
      " [3 4 5]\n",
      " [4 5 6]]\n",
      "\n",
      "[[3 4]\n",
      " [4 5]\n",
      " [5 6]]\n",
      "\n",
      "[[2 3]\n",
      " [3 4]\n",
      " [4 5]]\n",
      "\n",
      "[[2 3 4]\n",
      " [3 4 5]\n",
      " [4 5 6]]\n",
      "\n",
      "[[3 4 5]\n",
      " [4 5 6]\n",
      " [5 6 7]]\n",
      "\n",
      "[[4 5]\n",
      " [5 6]\n",
      " [6 7]]\n",
      "\n",
      "[[3 4]\n",
      " [4 5]]\n",
      "\n",
      "[[3 4 5]\n",
      " [4 5 6]]\n",
      "\n",
      "[[4 5 6]\n",
      " [5 6 7]]\n",
      "\n",
      "[[5 6]\n",
      " [6 7]]\n",
      "\n"
     ]
    }
   ],
   "source": [
    "arr = np.array([[1,2,3,4],\n",
    "               [2,3,4,5],\n",
    "               [3,4,5,6],\n",
    "               [4,5,6,7]])\n",
    "gen = window(arr)\n",
    "print(arr.shape)\n",
    "\n",
    "\n",
    "# Print each step of the generator (runs for all elementrs of array)\n",
    "i=0\n",
    "while i < (arr.shape[0]*arr.shape[1]):\n",
    "    print(next(gen))\n",
    "    print(\"\")\n",
    "    i+=1\n"
   ]
  },
  {
   "cell_type": "markdown",
   "metadata": {},
   "source": [
    "It's not vectorized, but I'm not sure there is an existing vectorized function that returns different sized arrays. As @PaulPanzer points out you could pad your array to the size you need and use a np.lib.stride_tricks.as_strided to generate a view of the slices. Something like so:"
   ]
  },
  {
   "cell_type": "code",
   "execution_count": 11,
   "metadata": {},
   "outputs": [
    {
     "data": {
      "text/plain": [
       "array([[[[ nan,  nan,  nan],\n",
       "         [ nan,   1.,   2.],\n",
       "         [ nan,   2.,   3.]],\n",
       "\n",
       "        [[ nan,  nan,  nan],\n",
       "         [  1.,   2.,   3.],\n",
       "         [  2.,   3.,   4.]],\n",
       "\n",
       "        [[ nan,  nan,  nan],\n",
       "         [  2.,   3.,   4.],\n",
       "         [  3.,   4.,   5.]],\n",
       "\n",
       "        [[ nan,  nan,  nan],\n",
       "         [  3.,   4.,  nan],\n",
       "         [  4.,   5.,  nan]]],\n",
       "\n",
       "\n",
       "       [[[ nan,   1.,   2.],\n",
       "         [ nan,   2.,   3.],\n",
       "         [ nan,   3.,   4.]],\n",
       "\n",
       "        [[  1.,   2.,   3.],\n",
       "         [  2.,   3.,   4.],\n",
       "         [  3.,   4.,   5.]],\n",
       "\n",
       "        [[  2.,   3.,   4.],\n",
       "         [  3.,   4.,   5.],\n",
       "         [  4.,   5.,   6.]],\n",
       "\n",
       "        [[  3.,   4.,  nan],\n",
       "         [  4.,   5.,  nan],\n",
       "         [  5.,   6.,  nan]]],\n",
       "\n",
       "\n",
       "       [[[ nan,   2.,   3.],\n",
       "         [ nan,   3.,   4.],\n",
       "         [ nan,   4.,   5.]],\n",
       "\n",
       "        [[  2.,   3.,   4.],\n",
       "         [  3.,   4.,   5.],\n",
       "         [  4.,   5.,   6.]],\n",
       "\n",
       "        [[  3.,   4.,   5.],\n",
       "         [  4.,   5.,   6.],\n",
       "         [  5.,   6.,   7.]],\n",
       "\n",
       "        [[  4.,   5.,  nan],\n",
       "         [  5.,   6.,  nan],\n",
       "         [  6.,   7.,  nan]]],\n",
       "\n",
       "\n",
       "       [[[ nan,   3.,   4.],\n",
       "         [ nan,   4.,   5.],\n",
       "         [ nan,  nan,  nan]],\n",
       "\n",
       "        [[  3.,   4.,   5.],\n",
       "         [  4.,   5.,   6.],\n",
       "         [ nan,  nan,  nan]],\n",
       "\n",
       "        [[  4.,   5.,   6.],\n",
       "         [  5.,   6.,   7.],\n",
       "         [ nan,  nan,  nan]],\n",
       "\n",
       "        [[  5.,   6.,  nan],\n",
       "         [  6.,   7.,  nan],\n",
       "         [ nan,  nan,  nan]]]])"
      ]
     },
     "execution_count": 11,
     "metadata": {},
     "output_type": "execute_result"
    }
   ],
   "source": [
    "def rolling_window(a, shape):\n",
    "    s = (a.shape[0] - shape[0] + 1,) + (a.shape[1] - shape[1] + 1,) + shape\n",
    "    strides = a.strides + a.strides\n",
    "    return np.lib.stride_tricks.as_strided(a, shape=s, strides=strides)\n",
    "\n",
    "def window2(arr, shape=(3, 3)):\n",
    "    r_extra = np.floor(shape[0] / 2).astype(int)\n",
    "    c_extra = np.floor(shape[1] / 2).astype(int)\n",
    "    out = np.empty((arr.shape[0] + 2 * r_extra, arr.shape[1] + 2 * c_extra))\n",
    "    out[:] = np.nan\n",
    "    out[r_extra:-r_extra, c_extra:-c_extra] = arr\n",
    "    view = rolling_window(out, shape)\n",
    "    return view\n",
    "\n",
    "window2(arr, (3,3))"
   ]
  },
  {
   "cell_type": "markdown",
   "metadata": {},
   "source": [
    "This version pads the edges with np.nan to avoid confusion with any other values in your array. It is about 3x faster with the given array than the window function, but I am not sure how having padded output will impact anything you want to do downstream."
   ]
  },
  {
   "cell_type": "markdown",
   "metadata": {},
   "source": [
    "**Plot the moving window example above**"
   ]
  },
  {
   "cell_type": "markdown",
   "metadata": {},
   "source": [
    "**Possible to map the generator function to run in parallel?**"
   ]
  },
  {
   "cell_type": "code",
   "execution_count": null,
   "metadata": {},
   "outputs": [],
   "source": []
  }
 ],
 "metadata": {
  "kernelspec": {
   "display_name": "Python 3",
   "language": "python",
   "name": "python3"
  },
  "language_info": {
   "codemirror_mode": {
    "name": "ipython",
    "version": 3
   },
   "file_extension": ".py",
   "mimetype": "text/x-python",
   "name": "python",
   "nbconvert_exporter": "python",
   "pygments_lexer": "ipython3",
   "version": "3.6.3"
  }
 },
 "nbformat": 4,
 "nbformat_minor": 2
}
